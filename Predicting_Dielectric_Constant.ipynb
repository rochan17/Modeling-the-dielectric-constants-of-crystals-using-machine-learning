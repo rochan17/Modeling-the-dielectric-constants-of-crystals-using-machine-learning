{
 "cells": [
  {
   "cell_type": "code",
   "execution_count": 151,
   "metadata": {},
   "outputs": [],
   "source": [
    "import numpy as np\n",
    "import pandas as pd\n",
    "import matplotlib.pyplot as plt\n",
    "import seaborn as sns\n",
    "import h5py\n",
    "import pickle\n",
    "from sklearn.model_selection import train_test_split\n",
    "from sklearn.ensemble import RandomForestRegressor\n",
    "from sklearn.svm import SVR\n",
    "from xgboost import XGBRegressor\n",
    "from sklearn.kernel_ridge import KernelRidge\n",
    "from sklearn.model_selection import GridSearchCV\n",
    "from sklearn.ensemble import GradientBoostingRegressor\n",
    "from sklearn.metrics import mean_absolute_error,mean_squared_error,r2_score\n",
    "from sklearn.preprocessing import StandardScaler"
   ]
  },
  {
   "cell_type": "code",
   "execution_count": 2,
   "metadata": {},
   "outputs": [],
   "source": [
    "file=open('raw_data.pickle','rb')"
   ]
  },
  {
   "cell_type": "code",
   "execution_count": 3,
   "metadata": {},
   "outputs": [],
   "source": [
    "Data=pd.read_hdf('data_train.h5')"
   ]
  },
  {
   "cell_type": "code",
   "execution_count": 4,
   "metadata": {},
   "outputs": [],
   "source": [
    "split_data=pickle.load(file)"
   ]
  },
  {
   "cell_type": "code",
   "execution_count": 5,
   "metadata": {},
   "outputs": [],
   "source": [
    "y=Data['PG18PI17_e_electronic_ave'].values.reshape(-1,1)\n",
    "X=Data.drop(columns=['PG18PI17_e_electronic_ave','MP_pretty_formula','MP_material_id'])"
   ]
  },
  {
   "cell_type": "code",
   "execution_count": 6,
   "metadata": {},
   "outputs": [
    {
     "name": "stderr",
     "output_type": "stream",
     "text": [
      "C:\\ProgramData\\Anaconda3\\lib\\site-packages\\ipykernel_launcher.py:2: DataConversionWarning: A column-vector y was passed when a 1d array was expected. Please change the shape of y to (n_samples,), for example using ravel().\n",
      "  \n"
     ]
    },
    {
     "data": {
      "text/plain": [
       "RandomForestRegressor(bootstrap=True, ccp_alpha=0.0, criterion='mse',\n",
       "                      max_depth=None, max_features='auto', max_leaf_nodes=None,\n",
       "                      max_samples=None, min_impurity_decrease=0.0,\n",
       "                      min_impurity_split=None, min_samples_leaf=1,\n",
       "                      min_samples_split=2, min_weight_fraction_leaf=0.0,\n",
       "                      n_estimators=100, n_jobs=None, oob_score=False,\n",
       "                      random_state=None, verbose=0, warm_start=False)"
      ]
     },
     "execution_count": 6,
     "metadata": {},
     "output_type": "execute_result"
    }
   ],
   "source": [
    "reg=RandomForestRegressor()\n",
    "reg.fit(X,y)"
   ]
  },
  {
   "cell_type": "code",
   "execution_count": 7,
   "metadata": {},
   "outputs": [],
   "source": [
    "cor=X.corr()"
   ]
  },
  {
   "cell_type": "code",
   "execution_count": 8,
   "metadata": {},
   "outputs": [],
   "source": [
    "cor=cor.iloc[:20,:20]"
   ]
  },
  {
   "cell_type": "code",
   "execution_count": 9,
   "metadata": {},
   "outputs": [
    {
     "data": {
      "text/html": [
       "<div>\n",
       "<style scoped>\n",
       "    .dataframe tbody tr th:only-of-type {\n",
       "        vertical-align: middle;\n",
       "    }\n",
       "\n",
       "    .dataframe tbody tr th {\n",
       "        vertical-align: top;\n",
       "    }\n",
       "\n",
       "    .dataframe thead th {\n",
       "        text-align: right;\n",
       "    }\n",
       "</style>\n",
       "<table border=\"1\" class=\"dataframe\">\n",
       "  <thead>\n",
       "    <tr style=\"text-align: right;\">\n",
       "      <th></th>\n",
       "      <th>MP_band_gap</th>\n",
       "      <th>delta_pauling_eneg</th>\n",
       "      <th>MP_spacegroup_number</th>\n",
       "      <th>MP_density</th>\n",
       "      <th>MP_e_above_hull</th>\n",
       "      <th>MP_formation_energy_per_atom</th>\n",
       "      <th>MP_nelements</th>\n",
       "      <th>MP_nsites</th>\n",
       "      <th>MP_total_magnetization</th>\n",
       "      <th>min_PYMATGEN_oxidation_state</th>\n",
       "      <th>min_PYMATGEN_madelung</th>\n",
       "      <th>mean_PYMATGEN_madelung</th>\n",
       "      <th>max_PYMATGEN_oxidation_state</th>\n",
       "      <th>max_PYMATGEN_madelung</th>\n",
       "      <th>var_PYMATGEN_oxidation_state</th>\n",
       "      <th>var_PYMATGEN_madelung</th>\n",
       "      <th>OneHot_Cs+</th>\n",
       "      <th>OneHot_K+</th>\n",
       "      <th>OneHot_Rb+</th>\n",
       "      <th>OneHot_Ba2+</th>\n",
       "    </tr>\n",
       "  </thead>\n",
       "  <tbody>\n",
       "    <tr>\n",
       "      <th>MP_band_gap</th>\n",
       "      <td>NaN</td>\n",
       "      <td>0.460178</td>\n",
       "      <td>0.033628</td>\n",
       "      <td>-0.280689</td>\n",
       "      <td>-0.004481</td>\n",
       "      <td>-0.647751</td>\n",
       "      <td>-0.007785</td>\n",
       "      <td>0.062090</td>\n",
       "      <td>-0.067232</td>\n",
       "      <td>0.398370</td>\n",
       "      <td>-0.188879</td>\n",
       "      <td>-0.025196</td>\n",
       "      <td>0.156060</td>\n",
       "      <td>0.012827</td>\n",
       "      <td>-0.126410</td>\n",
       "      <td>0.184979</td>\n",
       "      <td>0.040416</td>\n",
       "      <td>-0.085331</td>\n",
       "      <td>0.006352</td>\n",
       "      <td>-0.048425</td>\n",
       "    </tr>\n",
       "    <tr>\n",
       "      <th>delta_pauling_eneg</th>\n",
       "      <td>0.460178</td>\n",
       "      <td>NaN</td>\n",
       "      <td>0.064866</td>\n",
       "      <td>0.030951</td>\n",
       "      <td>-0.069266</td>\n",
       "      <td>-0.754688</td>\n",
       "      <td>0.399176</td>\n",
       "      <td>0.071812</td>\n",
       "      <td>0.049826</td>\n",
       "      <td>0.346646</td>\n",
       "      <td>-0.122679</td>\n",
       "      <td>0.163745</td>\n",
       "      <td>0.103474</td>\n",
       "      <td>0.310648</td>\n",
       "      <td>-0.297826</td>\n",
       "      <td>0.122433</td>\n",
       "      <td>0.140807</td>\n",
       "      <td>0.052343</td>\n",
       "      <td>0.126936</td>\n",
       "      <td>0.093548</td>\n",
       "    </tr>\n",
       "    <tr>\n",
       "      <th>MP_spacegroup_number</th>\n",
       "      <td>0.033628</td>\n",
       "      <td>0.064866</td>\n",
       "      <td>NaN</td>\n",
       "      <td>-0.046629</td>\n",
       "      <td>0.148716</td>\n",
       "      <td>-0.029579</td>\n",
       "      <td>-0.145439</td>\n",
       "      <td>-0.456229</td>\n",
       "      <td>0.028192</td>\n",
       "      <td>0.097621</td>\n",
       "      <td>0.189795</td>\n",
       "      <td>0.164379</td>\n",
       "      <td>-0.191704</td>\n",
       "      <td>-0.018786</td>\n",
       "      <td>-0.040479</td>\n",
       "      <td>-0.180129</td>\n",
       "      <td>0.064955</td>\n",
       "      <td>0.010139</td>\n",
       "      <td>0.057425</td>\n",
       "      <td>0.033900</td>\n",
       "    </tr>\n",
       "    <tr>\n",
       "      <th>MP_density</th>\n",
       "      <td>-0.280689</td>\n",
       "      <td>0.030951</td>\n",
       "      <td>-0.046629</td>\n",
       "      <td>NaN</td>\n",
       "      <td>0.030293</td>\n",
       "      <td>-0.100313</td>\n",
       "      <td>0.088676</td>\n",
       "      <td>-0.008205</td>\n",
       "      <td>-0.018134</td>\n",
       "      <td>0.001079</td>\n",
       "      <td>-0.058621</td>\n",
       "      <td>-0.085114</td>\n",
       "      <td>0.167117</td>\n",
       "      <td>-0.081239</td>\n",
       "      <td>0.147820</td>\n",
       "      <td>0.025432</td>\n",
       "      <td>-0.002433</td>\n",
       "      <td>-0.258917</td>\n",
       "      <td>-0.097627</td>\n",
       "      <td>0.180267</td>\n",
       "    </tr>\n",
       "    <tr>\n",
       "      <th>MP_e_above_hull</th>\n",
       "      <td>-0.004481</td>\n",
       "      <td>-0.069266</td>\n",
       "      <td>0.148716</td>\n",
       "      <td>0.030293</td>\n",
       "      <td>NaN</td>\n",
       "      <td>0.052777</td>\n",
       "      <td>-0.159544</td>\n",
       "      <td>-0.198300</td>\n",
       "      <td>-0.027107</td>\n",
       "      <td>-0.092164</td>\n",
       "      <td>0.040867</td>\n",
       "      <td>-0.082342</td>\n",
       "      <td>-0.050329</td>\n",
       "      <td>-0.198929</td>\n",
       "      <td>0.244641</td>\n",
       "      <td>-0.049960</td>\n",
       "      <td>-0.021968</td>\n",
       "      <td>-0.007230</td>\n",
       "      <td>-0.018845</td>\n",
       "      <td>0.039774</td>\n",
       "    </tr>\n",
       "    <tr>\n",
       "      <th>MP_formation_energy_per_atom</th>\n",
       "      <td>-0.647751</td>\n",
       "      <td>-0.754688</td>\n",
       "      <td>-0.029579</td>\n",
       "      <td>-0.100313</td>\n",
       "      <td>0.052777</td>\n",
       "      <td>NaN</td>\n",
       "      <td>-0.184897</td>\n",
       "      <td>-0.116777</td>\n",
       "      <td>-0.056279</td>\n",
       "      <td>-0.364253</td>\n",
       "      <td>0.247477</td>\n",
       "      <td>0.027850</td>\n",
       "      <td>-0.289592</td>\n",
       "      <td>-0.061600</td>\n",
       "      <td>0.104638</td>\n",
       "      <td>-0.182426</td>\n",
       "      <td>0.011466</td>\n",
       "      <td>0.124952</td>\n",
       "      <td>0.020155</td>\n",
       "      <td>-0.095098</td>\n",
       "    </tr>\n",
       "    <tr>\n",
       "      <th>MP_nelements</th>\n",
       "      <td>-0.007785</td>\n",
       "      <td>0.399176</td>\n",
       "      <td>-0.145439</td>\n",
       "      <td>0.088676</td>\n",
       "      <td>-0.159544</td>\n",
       "      <td>-0.184897</td>\n",
       "      <td>NaN</td>\n",
       "      <td>0.236380</td>\n",
       "      <td>-0.054728</td>\n",
       "      <td>-0.134735</td>\n",
       "      <td>-0.279072</td>\n",
       "      <td>-0.052247</td>\n",
       "      <td>0.291074</td>\n",
       "      <td>0.239342</td>\n",
       "      <td>-0.059068</td>\n",
       "      <td>0.169233</td>\n",
       "      <td>0.031722</td>\n",
       "      <td>0.061286</td>\n",
       "      <td>-0.005146</td>\n",
       "      <td>0.063741</td>\n",
       "    </tr>\n",
       "    <tr>\n",
       "      <th>MP_nsites</th>\n",
       "      <td>0.062090</td>\n",
       "      <td>0.071812</td>\n",
       "      <td>-0.456229</td>\n",
       "      <td>-0.008205</td>\n",
       "      <td>-0.198300</td>\n",
       "      <td>-0.116777</td>\n",
       "      <td>0.236380</td>\n",
       "      <td>NaN</td>\n",
       "      <td>0.059927</td>\n",
       "      <td>0.032494</td>\n",
       "      <td>-0.342798</td>\n",
       "      <td>-0.201289</td>\n",
       "      <td>0.368582</td>\n",
       "      <td>-0.043596</td>\n",
       "      <td>-0.028877</td>\n",
       "      <td>0.233924</td>\n",
       "      <td>-0.008371</td>\n",
       "      <td>-0.033200</td>\n",
       "      <td>-0.066798</td>\n",
       "      <td>-0.048493</td>\n",
       "    </tr>\n",
       "    <tr>\n",
       "      <th>MP_total_magnetization</th>\n",
       "      <td>-0.067232</td>\n",
       "      <td>0.049826</td>\n",
       "      <td>0.028192</td>\n",
       "      <td>-0.018134</td>\n",
       "      <td>-0.027107</td>\n",
       "      <td>-0.056279</td>\n",
       "      <td>-0.054728</td>\n",
       "      <td>0.059927</td>\n",
       "      <td>NaN</td>\n",
       "      <td>0.110321</td>\n",
       "      <td>0.045159</td>\n",
       "      <td>0.046381</td>\n",
       "      <td>-0.019239</td>\n",
       "      <td>0.023410</td>\n",
       "      <td>-0.077517</td>\n",
       "      <td>-0.041350</td>\n",
       "      <td>-0.029746</td>\n",
       "      <td>0.003384</td>\n",
       "      <td>0.033510</td>\n",
       "      <td>-0.043128</td>\n",
       "    </tr>\n",
       "    <tr>\n",
       "      <th>min_PYMATGEN_oxidation_state</th>\n",
       "      <td>0.398370</td>\n",
       "      <td>0.346646</td>\n",
       "      <td>0.097621</td>\n",
       "      <td>0.001079</td>\n",
       "      <td>-0.092164</td>\n",
       "      <td>-0.364253</td>\n",
       "      <td>-0.134735</td>\n",
       "      <td>0.032494</td>\n",
       "      <td>0.110321</td>\n",
       "      <td>NaN</td>\n",
       "      <td>0.270925</td>\n",
       "      <td>0.606342</td>\n",
       "      <td>-0.098222</td>\n",
       "      <td>0.468322</td>\n",
       "      <td>-0.669012</td>\n",
       "      <td>-0.141565</td>\n",
       "      <td>0.136352</td>\n",
       "      <td>-0.066426</td>\n",
       "      <td>0.101047</td>\n",
       "      <td>-0.033073</td>\n",
       "    </tr>\n",
       "    <tr>\n",
       "      <th>min_PYMATGEN_madelung</th>\n",
       "      <td>-0.188879</td>\n",
       "      <td>-0.122679</td>\n",
       "      <td>0.189795</td>\n",
       "      <td>-0.058621</td>\n",
       "      <td>0.040867</td>\n",
       "      <td>0.247477</td>\n",
       "      <td>-0.279072</td>\n",
       "      <td>-0.342798</td>\n",
       "      <td>0.045159</td>\n",
       "      <td>0.270925</td>\n",
       "      <td>NaN</td>\n",
       "      <td>0.768899</td>\n",
       "      <td>-0.896044</td>\n",
       "      <td>0.369577</td>\n",
       "      <td>-0.601650</td>\n",
       "      <td>-0.887020</td>\n",
       "      <td>0.115917</td>\n",
       "      <td>0.123941</td>\n",
       "      <td>0.132368</td>\n",
       "      <td>0.049205</td>\n",
       "    </tr>\n",
       "    <tr>\n",
       "      <th>mean_PYMATGEN_madelung</th>\n",
       "      <td>-0.025196</td>\n",
       "      <td>0.163745</td>\n",
       "      <td>0.164379</td>\n",
       "      <td>-0.085114</td>\n",
       "      <td>-0.082342</td>\n",
       "      <td>0.027850</td>\n",
       "      <td>-0.052247</td>\n",
       "      <td>-0.201289</td>\n",
       "      <td>0.046381</td>\n",
       "      <td>0.606342</td>\n",
       "      <td>0.768899</td>\n",
       "      <td>NaN</td>\n",
       "      <td>-0.655701</td>\n",
       "      <td>0.777722</td>\n",
       "      <td>NaN</td>\n",
       "      <td>-0.599336</td>\n",
       "      <td>0.178783</td>\n",
       "      <td>0.173190</td>\n",
       "      <td>0.173383</td>\n",
       "      <td>0.050159</td>\n",
       "    </tr>\n",
       "    <tr>\n",
       "      <th>max_PYMATGEN_oxidation_state</th>\n",
       "      <td>0.156060</td>\n",
       "      <td>0.103474</td>\n",
       "      <td>-0.191704</td>\n",
       "      <td>0.167117</td>\n",
       "      <td>-0.050329</td>\n",
       "      <td>-0.289592</td>\n",
       "      <td>0.291074</td>\n",
       "      <td>0.368582</td>\n",
       "      <td>-0.019239</td>\n",
       "      <td>-0.098222</td>\n",
       "      <td>-0.896044</td>\n",
       "      <td>-0.655701</td>\n",
       "      <td>NaN</td>\n",
       "      <td>-0.309241</td>\n",
       "      <td>0.550373</td>\n",
       "      <td>0.727796</td>\n",
       "      <td>-0.107167</td>\n",
       "      <td>-0.189818</td>\n",
       "      <td>-0.145061</td>\n",
       "      <td>-0.038674</td>\n",
       "    </tr>\n",
       "    <tr>\n",
       "      <th>max_PYMATGEN_madelung</th>\n",
       "      <td>0.012827</td>\n",
       "      <td>0.310648</td>\n",
       "      <td>-0.018786</td>\n",
       "      <td>-0.081239</td>\n",
       "      <td>-0.198929</td>\n",
       "      <td>-0.061600</td>\n",
       "      <td>0.239342</td>\n",
       "      <td>-0.043596</td>\n",
       "      <td>0.023410</td>\n",
       "      <td>0.468322</td>\n",
       "      <td>0.369577</td>\n",
       "      <td>0.777722</td>\n",
       "      <td>-0.309241</td>\n",
       "      <td>NaN</td>\n",
       "      <td>-0.799188</td>\n",
       "      <td>-0.147544</td>\n",
       "      <td>0.158523</td>\n",
       "      <td>0.185157</td>\n",
       "      <td>0.153420</td>\n",
       "      <td>0.008924</td>\n",
       "    </tr>\n",
       "    <tr>\n",
       "      <th>var_PYMATGEN_oxidation_state</th>\n",
       "      <td>-0.126410</td>\n",
       "      <td>-0.297826</td>\n",
       "      <td>-0.040479</td>\n",
       "      <td>0.147820</td>\n",
       "      <td>0.244641</td>\n",
       "      <td>0.104638</td>\n",
       "      <td>-0.059068</td>\n",
       "      <td>-0.028877</td>\n",
       "      <td>-0.077517</td>\n",
       "      <td>-0.669012</td>\n",
       "      <td>-0.601650</td>\n",
       "      <td>NaN</td>\n",
       "      <td>0.550373</td>\n",
       "      <td>-0.799188</td>\n",
       "      <td>NaN</td>\n",
       "      <td>0.443549</td>\n",
       "      <td>-0.175817</td>\n",
       "      <td>-0.159942</td>\n",
       "      <td>-0.169120</td>\n",
       "      <td>0.003078</td>\n",
       "    </tr>\n",
       "    <tr>\n",
       "      <th>var_PYMATGEN_madelung</th>\n",
       "      <td>0.184979</td>\n",
       "      <td>0.122433</td>\n",
       "      <td>-0.180129</td>\n",
       "      <td>0.025432</td>\n",
       "      <td>-0.049960</td>\n",
       "      <td>-0.182426</td>\n",
       "      <td>0.169233</td>\n",
       "      <td>0.233924</td>\n",
       "      <td>-0.041350</td>\n",
       "      <td>-0.141565</td>\n",
       "      <td>-0.887020</td>\n",
       "      <td>-0.599336</td>\n",
       "      <td>0.727796</td>\n",
       "      <td>-0.147544</td>\n",
       "      <td>0.443549</td>\n",
       "      <td>NaN</td>\n",
       "      <td>-0.070593</td>\n",
       "      <td>-0.065315</td>\n",
       "      <td>-0.081001</td>\n",
       "      <td>-0.060320</td>\n",
       "    </tr>\n",
       "    <tr>\n",
       "      <th>OneHot_Cs+</th>\n",
       "      <td>0.040416</td>\n",
       "      <td>0.140807</td>\n",
       "      <td>0.064955</td>\n",
       "      <td>-0.002433</td>\n",
       "      <td>-0.021968</td>\n",
       "      <td>0.011466</td>\n",
       "      <td>0.031722</td>\n",
       "      <td>-0.008371</td>\n",
       "      <td>-0.029746</td>\n",
       "      <td>0.136352</td>\n",
       "      <td>0.115917</td>\n",
       "      <td>0.178783</td>\n",
       "      <td>-0.107167</td>\n",
       "      <td>0.158523</td>\n",
       "      <td>-0.175817</td>\n",
       "      <td>-0.070593</td>\n",
       "      <td>NaN</td>\n",
       "      <td>-0.080758</td>\n",
       "      <td>-0.062561</td>\n",
       "      <td>-0.071122</td>\n",
       "    </tr>\n",
       "    <tr>\n",
       "      <th>OneHot_K+</th>\n",
       "      <td>-0.085331</td>\n",
       "      <td>0.052343</td>\n",
       "      <td>0.010139</td>\n",
       "      <td>-0.258917</td>\n",
       "      <td>-0.007230</td>\n",
       "      <td>0.124952</td>\n",
       "      <td>0.061286</td>\n",
       "      <td>-0.033200</td>\n",
       "      <td>0.003384</td>\n",
       "      <td>-0.066426</td>\n",
       "      <td>0.123941</td>\n",
       "      <td>0.173190</td>\n",
       "      <td>-0.189818</td>\n",
       "      <td>0.185157</td>\n",
       "      <td>-0.159942</td>\n",
       "      <td>-0.065315</td>\n",
       "      <td>-0.080758</td>\n",
       "      <td>NaN</td>\n",
       "      <td>-0.091964</td>\n",
       "      <td>-0.077057</td>\n",
       "    </tr>\n",
       "    <tr>\n",
       "      <th>OneHot_Rb+</th>\n",
       "      <td>0.006352</td>\n",
       "      <td>0.126936</td>\n",
       "      <td>0.057425</td>\n",
       "      <td>-0.097627</td>\n",
       "      <td>-0.018845</td>\n",
       "      <td>0.020155</td>\n",
       "      <td>-0.005146</td>\n",
       "      <td>-0.066798</td>\n",
       "      <td>0.033510</td>\n",
       "      <td>0.101047</td>\n",
       "      <td>0.132368</td>\n",
       "      <td>0.173383</td>\n",
       "      <td>-0.145061</td>\n",
       "      <td>0.153420</td>\n",
       "      <td>-0.169120</td>\n",
       "      <td>-0.081001</td>\n",
       "      <td>-0.062561</td>\n",
       "      <td>-0.091964</td>\n",
       "      <td>NaN</td>\n",
       "      <td>-0.070687</td>\n",
       "    </tr>\n",
       "    <tr>\n",
       "      <th>OneHot_Ba2+</th>\n",
       "      <td>-0.048425</td>\n",
       "      <td>0.093548</td>\n",
       "      <td>0.033900</td>\n",
       "      <td>0.180267</td>\n",
       "      <td>0.039774</td>\n",
       "      <td>-0.095098</td>\n",
       "      <td>0.063741</td>\n",
       "      <td>-0.048493</td>\n",
       "      <td>-0.043128</td>\n",
       "      <td>-0.033073</td>\n",
       "      <td>0.049205</td>\n",
       "      <td>0.050159</td>\n",
       "      <td>-0.038674</td>\n",
       "      <td>0.008924</td>\n",
       "      <td>0.003078</td>\n",
       "      <td>-0.060320</td>\n",
       "      <td>-0.071122</td>\n",
       "      <td>-0.077057</td>\n",
       "      <td>-0.070687</td>\n",
       "      <td>NaN</td>\n",
       "    </tr>\n",
       "  </tbody>\n",
       "</table>\n",
       "</div>"
      ],
      "text/plain": [
       "                              MP_band_gap  delta_pauling_eneg  \\\n",
       "MP_band_gap                           NaN            0.460178   \n",
       "delta_pauling_eneg               0.460178                 NaN   \n",
       "MP_spacegroup_number             0.033628            0.064866   \n",
       "MP_density                      -0.280689            0.030951   \n",
       "MP_e_above_hull                 -0.004481           -0.069266   \n",
       "MP_formation_energy_per_atom    -0.647751           -0.754688   \n",
       "MP_nelements                    -0.007785            0.399176   \n",
       "MP_nsites                        0.062090            0.071812   \n",
       "MP_total_magnetization          -0.067232            0.049826   \n",
       "min_PYMATGEN_oxidation_state     0.398370            0.346646   \n",
       "min_PYMATGEN_madelung           -0.188879           -0.122679   \n",
       "mean_PYMATGEN_madelung          -0.025196            0.163745   \n",
       "max_PYMATGEN_oxidation_state     0.156060            0.103474   \n",
       "max_PYMATGEN_madelung            0.012827            0.310648   \n",
       "var_PYMATGEN_oxidation_state    -0.126410           -0.297826   \n",
       "var_PYMATGEN_madelung            0.184979            0.122433   \n",
       "OneHot_Cs+                       0.040416            0.140807   \n",
       "OneHot_K+                       -0.085331            0.052343   \n",
       "OneHot_Rb+                       0.006352            0.126936   \n",
       "OneHot_Ba2+                     -0.048425            0.093548   \n",
       "\n",
       "                              MP_spacegroup_number  MP_density  \\\n",
       "MP_band_gap                               0.033628   -0.280689   \n",
       "delta_pauling_eneg                        0.064866    0.030951   \n",
       "MP_spacegroup_number                           NaN   -0.046629   \n",
       "MP_density                               -0.046629         NaN   \n",
       "MP_e_above_hull                           0.148716    0.030293   \n",
       "MP_formation_energy_per_atom             -0.029579   -0.100313   \n",
       "MP_nelements                             -0.145439    0.088676   \n",
       "MP_nsites                                -0.456229   -0.008205   \n",
       "MP_total_magnetization                    0.028192   -0.018134   \n",
       "min_PYMATGEN_oxidation_state              0.097621    0.001079   \n",
       "min_PYMATGEN_madelung                     0.189795   -0.058621   \n",
       "mean_PYMATGEN_madelung                    0.164379   -0.085114   \n",
       "max_PYMATGEN_oxidation_state             -0.191704    0.167117   \n",
       "max_PYMATGEN_madelung                    -0.018786   -0.081239   \n",
       "var_PYMATGEN_oxidation_state             -0.040479    0.147820   \n",
       "var_PYMATGEN_madelung                    -0.180129    0.025432   \n",
       "OneHot_Cs+                                0.064955   -0.002433   \n",
       "OneHot_K+                                 0.010139   -0.258917   \n",
       "OneHot_Rb+                                0.057425   -0.097627   \n",
       "OneHot_Ba2+                               0.033900    0.180267   \n",
       "\n",
       "                              MP_e_above_hull  MP_formation_energy_per_atom  \\\n",
       "MP_band_gap                         -0.004481                     -0.647751   \n",
       "delta_pauling_eneg                  -0.069266                     -0.754688   \n",
       "MP_spacegroup_number                 0.148716                     -0.029579   \n",
       "MP_density                           0.030293                     -0.100313   \n",
       "MP_e_above_hull                           NaN                      0.052777   \n",
       "MP_formation_energy_per_atom         0.052777                           NaN   \n",
       "MP_nelements                        -0.159544                     -0.184897   \n",
       "MP_nsites                           -0.198300                     -0.116777   \n",
       "MP_total_magnetization              -0.027107                     -0.056279   \n",
       "min_PYMATGEN_oxidation_state        -0.092164                     -0.364253   \n",
       "min_PYMATGEN_madelung                0.040867                      0.247477   \n",
       "mean_PYMATGEN_madelung              -0.082342                      0.027850   \n",
       "max_PYMATGEN_oxidation_state        -0.050329                     -0.289592   \n",
       "max_PYMATGEN_madelung               -0.198929                     -0.061600   \n",
       "var_PYMATGEN_oxidation_state         0.244641                      0.104638   \n",
       "var_PYMATGEN_madelung               -0.049960                     -0.182426   \n",
       "OneHot_Cs+                          -0.021968                      0.011466   \n",
       "OneHot_K+                           -0.007230                      0.124952   \n",
       "OneHot_Rb+                          -0.018845                      0.020155   \n",
       "OneHot_Ba2+                          0.039774                     -0.095098   \n",
       "\n",
       "                              MP_nelements  MP_nsites  MP_total_magnetization  \\\n",
       "MP_band_gap                      -0.007785   0.062090               -0.067232   \n",
       "delta_pauling_eneg                0.399176   0.071812                0.049826   \n",
       "MP_spacegroup_number             -0.145439  -0.456229                0.028192   \n",
       "MP_density                        0.088676  -0.008205               -0.018134   \n",
       "MP_e_above_hull                  -0.159544  -0.198300               -0.027107   \n",
       "MP_formation_energy_per_atom     -0.184897  -0.116777               -0.056279   \n",
       "MP_nelements                           NaN   0.236380               -0.054728   \n",
       "MP_nsites                         0.236380        NaN                0.059927   \n",
       "MP_total_magnetization           -0.054728   0.059927                     NaN   \n",
       "min_PYMATGEN_oxidation_state     -0.134735   0.032494                0.110321   \n",
       "min_PYMATGEN_madelung            -0.279072  -0.342798                0.045159   \n",
       "mean_PYMATGEN_madelung           -0.052247  -0.201289                0.046381   \n",
       "max_PYMATGEN_oxidation_state      0.291074   0.368582               -0.019239   \n",
       "max_PYMATGEN_madelung             0.239342  -0.043596                0.023410   \n",
       "var_PYMATGEN_oxidation_state     -0.059068  -0.028877               -0.077517   \n",
       "var_PYMATGEN_madelung             0.169233   0.233924               -0.041350   \n",
       "OneHot_Cs+                        0.031722  -0.008371               -0.029746   \n",
       "OneHot_K+                         0.061286  -0.033200                0.003384   \n",
       "OneHot_Rb+                       -0.005146  -0.066798                0.033510   \n",
       "OneHot_Ba2+                       0.063741  -0.048493               -0.043128   \n",
       "\n",
       "                              min_PYMATGEN_oxidation_state  \\\n",
       "MP_band_gap                                       0.398370   \n",
       "delta_pauling_eneg                                0.346646   \n",
       "MP_spacegroup_number                              0.097621   \n",
       "MP_density                                        0.001079   \n",
       "MP_e_above_hull                                  -0.092164   \n",
       "MP_formation_energy_per_atom                     -0.364253   \n",
       "MP_nelements                                     -0.134735   \n",
       "MP_nsites                                         0.032494   \n",
       "MP_total_magnetization                            0.110321   \n",
       "min_PYMATGEN_oxidation_state                           NaN   \n",
       "min_PYMATGEN_madelung                             0.270925   \n",
       "mean_PYMATGEN_madelung                            0.606342   \n",
       "max_PYMATGEN_oxidation_state                     -0.098222   \n",
       "max_PYMATGEN_madelung                             0.468322   \n",
       "var_PYMATGEN_oxidation_state                     -0.669012   \n",
       "var_PYMATGEN_madelung                            -0.141565   \n",
       "OneHot_Cs+                                        0.136352   \n",
       "OneHot_K+                                        -0.066426   \n",
       "OneHot_Rb+                                        0.101047   \n",
       "OneHot_Ba2+                                      -0.033073   \n",
       "\n",
       "                              min_PYMATGEN_madelung  mean_PYMATGEN_madelung  \\\n",
       "MP_band_gap                               -0.188879               -0.025196   \n",
       "delta_pauling_eneg                        -0.122679                0.163745   \n",
       "MP_spacegroup_number                       0.189795                0.164379   \n",
       "MP_density                                -0.058621               -0.085114   \n",
       "MP_e_above_hull                            0.040867               -0.082342   \n",
       "MP_formation_energy_per_atom               0.247477                0.027850   \n",
       "MP_nelements                              -0.279072               -0.052247   \n",
       "MP_nsites                                 -0.342798               -0.201289   \n",
       "MP_total_magnetization                     0.045159                0.046381   \n",
       "min_PYMATGEN_oxidation_state               0.270925                0.606342   \n",
       "min_PYMATGEN_madelung                           NaN                0.768899   \n",
       "mean_PYMATGEN_madelung                     0.768899                     NaN   \n",
       "max_PYMATGEN_oxidation_state              -0.896044               -0.655701   \n",
       "max_PYMATGEN_madelung                      0.369577                0.777722   \n",
       "var_PYMATGEN_oxidation_state              -0.601650                     NaN   \n",
       "var_PYMATGEN_madelung                     -0.887020               -0.599336   \n",
       "OneHot_Cs+                                 0.115917                0.178783   \n",
       "OneHot_K+                                  0.123941                0.173190   \n",
       "OneHot_Rb+                                 0.132368                0.173383   \n",
       "OneHot_Ba2+                                0.049205                0.050159   \n",
       "\n",
       "                              max_PYMATGEN_oxidation_state  \\\n",
       "MP_band_gap                                       0.156060   \n",
       "delta_pauling_eneg                                0.103474   \n",
       "MP_spacegroup_number                             -0.191704   \n",
       "MP_density                                        0.167117   \n",
       "MP_e_above_hull                                  -0.050329   \n",
       "MP_formation_energy_per_atom                     -0.289592   \n",
       "MP_nelements                                      0.291074   \n",
       "MP_nsites                                         0.368582   \n",
       "MP_total_magnetization                           -0.019239   \n",
       "min_PYMATGEN_oxidation_state                     -0.098222   \n",
       "min_PYMATGEN_madelung                            -0.896044   \n",
       "mean_PYMATGEN_madelung                           -0.655701   \n",
       "max_PYMATGEN_oxidation_state                           NaN   \n",
       "max_PYMATGEN_madelung                            -0.309241   \n",
       "var_PYMATGEN_oxidation_state                      0.550373   \n",
       "var_PYMATGEN_madelung                             0.727796   \n",
       "OneHot_Cs+                                       -0.107167   \n",
       "OneHot_K+                                        -0.189818   \n",
       "OneHot_Rb+                                       -0.145061   \n",
       "OneHot_Ba2+                                      -0.038674   \n",
       "\n",
       "                              max_PYMATGEN_madelung  \\\n",
       "MP_band_gap                                0.012827   \n",
       "delta_pauling_eneg                         0.310648   \n",
       "MP_spacegroup_number                      -0.018786   \n",
       "MP_density                                -0.081239   \n",
       "MP_e_above_hull                           -0.198929   \n",
       "MP_formation_energy_per_atom              -0.061600   \n",
       "MP_nelements                               0.239342   \n",
       "MP_nsites                                 -0.043596   \n",
       "MP_total_magnetization                     0.023410   \n",
       "min_PYMATGEN_oxidation_state               0.468322   \n",
       "min_PYMATGEN_madelung                      0.369577   \n",
       "mean_PYMATGEN_madelung                     0.777722   \n",
       "max_PYMATGEN_oxidation_state              -0.309241   \n",
       "max_PYMATGEN_madelung                           NaN   \n",
       "var_PYMATGEN_oxidation_state              -0.799188   \n",
       "var_PYMATGEN_madelung                     -0.147544   \n",
       "OneHot_Cs+                                 0.158523   \n",
       "OneHot_K+                                  0.185157   \n",
       "OneHot_Rb+                                 0.153420   \n",
       "OneHot_Ba2+                                0.008924   \n",
       "\n",
       "                              var_PYMATGEN_oxidation_state  \\\n",
       "MP_band_gap                                      -0.126410   \n",
       "delta_pauling_eneg                               -0.297826   \n",
       "MP_spacegroup_number                             -0.040479   \n",
       "MP_density                                        0.147820   \n",
       "MP_e_above_hull                                   0.244641   \n",
       "MP_formation_energy_per_atom                      0.104638   \n",
       "MP_nelements                                     -0.059068   \n",
       "MP_nsites                                        -0.028877   \n",
       "MP_total_magnetization                           -0.077517   \n",
       "min_PYMATGEN_oxidation_state                     -0.669012   \n",
       "min_PYMATGEN_madelung                            -0.601650   \n",
       "mean_PYMATGEN_madelung                                 NaN   \n",
       "max_PYMATGEN_oxidation_state                      0.550373   \n",
       "max_PYMATGEN_madelung                            -0.799188   \n",
       "var_PYMATGEN_oxidation_state                           NaN   \n",
       "var_PYMATGEN_madelung                             0.443549   \n",
       "OneHot_Cs+                                       -0.175817   \n",
       "OneHot_K+                                        -0.159942   \n",
       "OneHot_Rb+                                       -0.169120   \n",
       "OneHot_Ba2+                                       0.003078   \n",
       "\n",
       "                              var_PYMATGEN_madelung  OneHot_Cs+  OneHot_K+  \\\n",
       "MP_band_gap                                0.184979    0.040416  -0.085331   \n",
       "delta_pauling_eneg                         0.122433    0.140807   0.052343   \n",
       "MP_spacegroup_number                      -0.180129    0.064955   0.010139   \n",
       "MP_density                                 0.025432   -0.002433  -0.258917   \n",
       "MP_e_above_hull                           -0.049960   -0.021968  -0.007230   \n",
       "MP_formation_energy_per_atom              -0.182426    0.011466   0.124952   \n",
       "MP_nelements                               0.169233    0.031722   0.061286   \n",
       "MP_nsites                                  0.233924   -0.008371  -0.033200   \n",
       "MP_total_magnetization                    -0.041350   -0.029746   0.003384   \n",
       "min_PYMATGEN_oxidation_state              -0.141565    0.136352  -0.066426   \n",
       "min_PYMATGEN_madelung                     -0.887020    0.115917   0.123941   \n",
       "mean_PYMATGEN_madelung                    -0.599336    0.178783   0.173190   \n",
       "max_PYMATGEN_oxidation_state               0.727796   -0.107167  -0.189818   \n",
       "max_PYMATGEN_madelung                     -0.147544    0.158523   0.185157   \n",
       "var_PYMATGEN_oxidation_state               0.443549   -0.175817  -0.159942   \n",
       "var_PYMATGEN_madelung                           NaN   -0.070593  -0.065315   \n",
       "OneHot_Cs+                                -0.070593         NaN  -0.080758   \n",
       "OneHot_K+                                 -0.065315   -0.080758        NaN   \n",
       "OneHot_Rb+                                -0.081001   -0.062561  -0.091964   \n",
       "OneHot_Ba2+                               -0.060320   -0.071122  -0.077057   \n",
       "\n",
       "                              OneHot_Rb+  OneHot_Ba2+  \n",
       "MP_band_gap                     0.006352    -0.048425  \n",
       "delta_pauling_eneg              0.126936     0.093548  \n",
       "MP_spacegroup_number            0.057425     0.033900  \n",
       "MP_density                     -0.097627     0.180267  \n",
       "MP_e_above_hull                -0.018845     0.039774  \n",
       "MP_formation_energy_per_atom    0.020155    -0.095098  \n",
       "MP_nelements                   -0.005146     0.063741  \n",
       "MP_nsites                      -0.066798    -0.048493  \n",
       "MP_total_magnetization          0.033510    -0.043128  \n",
       "min_PYMATGEN_oxidation_state    0.101047    -0.033073  \n",
       "min_PYMATGEN_madelung           0.132368     0.049205  \n",
       "mean_PYMATGEN_madelung          0.173383     0.050159  \n",
       "max_PYMATGEN_oxidation_state   -0.145061    -0.038674  \n",
       "max_PYMATGEN_madelung           0.153420     0.008924  \n",
       "var_PYMATGEN_oxidation_state   -0.169120     0.003078  \n",
       "var_PYMATGEN_madelung          -0.081001    -0.060320  \n",
       "OneHot_Cs+                     -0.062561    -0.071122  \n",
       "OneHot_K+                      -0.091964    -0.077057  \n",
       "OneHot_Rb+                           NaN    -0.070687  \n",
       "OneHot_Ba2+                    -0.070687          NaN  "
      ]
     },
     "execution_count": 9,
     "metadata": {},
     "output_type": "execute_result"
    }
   ],
   "source": [
    "cor[np.abs(cor)<0.90]"
   ]
  },
  {
   "cell_type": "code",
   "execution_count": 10,
   "metadata": {},
   "outputs": [],
   "source": [
    "X=X.drop(columns=['MP_spacegroup_number','MP_nelements','MP_nsites','MP_total_magnetization','max_PYMATGEN_oxidation_state','MP_e_above_hull','mean_PYMATGEN_madelung','var_PYMATGEN_madelung'])"
   ]
  },
  {
   "cell_type": "code",
   "execution_count": 11,
   "metadata": {},
   "outputs": [],
   "source": [
    "X_train,X_test,y_train,y_test=split_data"
   ]
  },
  {
   "cell_type": "code",
   "execution_count": 12,
   "metadata": {},
   "outputs": [],
   "source": [
    "svr_regressor=SVR()"
   ]
  },
  {
   "cell_type": "markdown",
   "metadata": {},
   "source": [
    "SUPPORT_VECTOR_REGRESSION"
   ]
  },
  {
   "cell_type": "code",
   "execution_count": 13,
   "metadata": {},
   "outputs": [
    {
     "data": {
      "text/plain": [
       "GridSearchCV(cv=7, error_score=nan,\n",
       "             estimator=SVR(C=1.0, cache_size=200, coef0=0.0, degree=3,\n",
       "                           epsilon=0.1, gamma='scale', kernel='rbf',\n",
       "                           max_iter=-1, shrinking=True, tol=0.001,\n",
       "                           verbose=False),\n",
       "             iid='deprecated', n_jobs=-1,\n",
       "             param_grid={'C': array([1.00000000e-03, 5.99484250e-03, 3.59381366e-02, 2.15443469e-01,\n",
       "       1.29154967e+00, 7.74263683e+00, 4.64158883e+01, 2.78255940e+02,\n",
       "       1.66810054e+03, 1.00000000e+04]),\n",
       "                         'epsilon': array([1.00000000e-04, 5.99484250e-04, 3.59381366e-03, 2.15443469e-02,\n",
       "       1.29154967e-01, 7.74263683e-01, 4.64158883e+00, 2.78255940e+01,\n",
       "       1.66810054e+02, 1.00000000e+03])},\n",
       "             pre_dispatch='2*n_jobs', refit=True, return_train_score=False,\n",
       "             scoring='r2', verbose=0)"
      ]
     },
     "execution_count": 13,
     "metadata": {},
     "output_type": "execute_result"
    }
   ],
   "source": [
    "svr_params={'C':np.logspace(-3,4,10),'epsilon':np.logspace(-4,3,10)}\n",
    "grid_search=GridSearchCV(estimator=svr_regressor,\n",
    "                        param_grid=svr_params,cv=7,n_jobs=-1,\n",
    "                        scoring='r2')\n",
    "\n",
    "grid_search.fit(X_train,y_train)"
   ]
  },
  {
   "cell_type": "code",
   "execution_count": 14,
   "metadata": {},
   "outputs": [
    {
     "data": {
      "text/plain": [
       "{'C': 46.41588833612782, 'epsilon': 0.021544346900318846}"
      ]
     },
     "execution_count": 14,
     "metadata": {},
     "output_type": "execute_result"
    }
   ],
   "source": [
    "grid_search.best_params_"
   ]
  },
  {
   "cell_type": "code",
   "execution_count": 15,
   "metadata": {},
   "outputs": [],
   "source": [
    "svr_y_pred=grid_search.predict(X_test)\n",
    "#svr_y_pred=scaler_y.inverse_transform(svr_y_pred)\n",
    "#y_test=scaler_y.inverse_transform(y_test)"
   ]
  },
  {
   "cell_type": "code",
   "execution_count": 16,
   "metadata": {},
   "outputs": [
    {
     "name": "stdout",
     "output_type": "stream",
     "text": [
      "0.889907851812589\n",
      "0.43621141807289554\n",
      "0.7870126386519759\n",
      "0.8871373279554727\n"
     ]
    }
   ],
   "source": [
    "print(r2_score(y_test,svr_y_pred))\n",
    "print(mean_absolute_error(y_test,svr_y_pred))\n",
    "print(mean_squared_error(y_test,svr_y_pred))\n",
    "print(np.sqrt(mean_squared_error(y_test,svr_y_pred)))"
   ]
  },
  {
   "cell_type": "code",
   "execution_count": 17,
   "metadata": {},
   "outputs": [
    {
     "data": {
      "text/plain": [
       "<matplotlib.collections.PathCollection at 0x2e75b1da888>"
      ]
     },
     "execution_count": 17,
     "metadata": {},
     "output_type": "execute_result"
    },
    {
     "data": {
      "image/png": "[encoded data removed]",
      "text/plain": [
       "<Figure size 432x288 with 1 Axes>"
      ]
     },
     "metadata": {
      "needs_background": "light"
     },
     "output_type": "display_data"
    }
   ],
   "source": [
    "plt.scatter(x=y_test,y=svr_y_pred,s=12)"
   ]
  },
  {
   "cell_type": "markdown",
   "metadata": {},
   "source": [
    "KERNEL RIDGE REGRESSION"
   ]
  },
  {
   "cell_type": "code",
   "execution_count": 18,
   "metadata": {},
   "outputs": [],
   "source": [
    "kr_regressor=KernelRidge()"
   ]
  },
  {
   "cell_type": "code",
   "execution_count": 19,
   "metadata": {},
   "outputs": [
    {
     "data": {
      "text/plain": [
       "GridSearchCV(cv=7, error_score=nan,\n",
       "             estimator=KernelRidge(alpha=1, coef0=1, degree=3, gamma=None,\n",
       "                                   kernel='linear', kernel_params=None),\n",
       "             iid='deprecated', n_jobs=-1,\n",
       "             param_grid={'alpha': array([0.1, 0.2, 0.3, 0.4, 0.5, 0.6, 0.7, 0.8, 0.9, 1. ]),\n",
       "                         'kernel': ['linear', 'laplacian', 'rbf']},\n",
       "             pre_dispatch='2*n_jobs', refit=True, return_train_score=False,\n",
       "             scoring='r2', verbose=0)"
      ]
     },
     "execution_count": 19,
     "metadata": {},
     "output_type": "execute_result"
    }
   ],
   "source": [
    "kr_params={'alpha':np.linspace(0.1,1,10),'kernel':['linear','laplacian','rbf']}\n",
    "grid_search=GridSearchCV(estimator=kr_regressor,\n",
    "                        param_grid=kr_params,cv=7,n_jobs=-1,\n",
    "                        scoring='r2')\n",
    "\n",
    "grid_search.fit(X_train,y_train)"
   ]
  },
  {
   "cell_type": "code",
   "execution_count": 20,
   "metadata": {},
   "outputs": [
    {
     "data": {
      "text/plain": [
       "{'alpha': 0.1, 'kernel': 'laplacian'}"
      ]
     },
     "execution_count": 20,
     "metadata": {},
     "output_type": "execute_result"
    }
   ],
   "source": [
    "grid_search.best_params_"
   ]
  },
  {
   "cell_type": "code",
   "execution_count": 21,
   "metadata": {},
   "outputs": [],
   "source": [
    "kr_y_pred=grid_search.predict(X_test)\n",
    "#svr_y_pred=scaler_y.inverse_transform(svr_y_pred)\n",
    "#y_test=scaler_y.inverse_transform(y_test)"
   ]
  },
  {
   "cell_type": "code",
   "execution_count": 22,
   "metadata": {},
   "outputs": [
    {
     "name": "stdout",
     "output_type": "stream",
     "text": [
      "0.8672138606531312\n",
      "0.5998573440369289\n",
      "0.9492445340051804\n",
      "0.9742918115252639\n"
     ]
    }
   ],
   "source": [
    "print(r2_score(y_test,kr_y_pred))\n",
    "print(mean_absolute_error(y_test,kr_y_pred))\n",
    "print(mean_squared_error(y_test,kr_y_pred))\n",
    "print(np.sqrt(mean_squared_error(y_test,kr_y_pred)))"
   ]
  },
  {
   "cell_type": "code",
   "execution_count": 23,
   "metadata": {},
   "outputs": [
    {
     "data": {
      "text/plain": [
       "<matplotlib.collections.PathCollection at 0x195e1394e08>"
      ]
     },
     "execution_count": 23,
     "metadata": {},
     "output_type": "execute_result"
    },
    {
     "data": {
      "image/png": "[encoded data removed]",
      "text/plain": [
       "<Figure size 432x288 with 1 Axes>"
      ]
     },
     "metadata": {
      "needs_background": "light"
     },
     "output_type": "display_data"
    }
   ],
   "source": [
    "plt.scatter(x=y_test,y=kr_y_pred,s=12)"
   ]
  },
  {
   "cell_type": "markdown",
   "metadata": {},
   "source": [
    "GRADIENT BOOST REGRESSOR"
   ]
  },
  {
   "cell_type": "code",
   "execution_count": 24,
   "metadata": {},
   "outputs": [],
   "source": [
    "gb_regressor=GradientBoostingRegressor()"
   ]
  },
  {
   "cell_type": "code",
   "execution_count": 25,
   "metadata": {},
   "outputs": [
    {
     "data": {
      "text/plain": [
       "GridSearchCV(cv=7, error_score=nan,\n",
       "             estimator=GradientBoostingRegressor(alpha=0.9, ccp_alpha=0.0,\n",
       "                                                 criterion='friedman_mse',\n",
       "                                                 init=None, learning_rate=0.1,\n",
       "                                                 loss='ls', max_depth=3,\n",
       "                                                 max_features=None,\n",
       "                                                 max_leaf_nodes=None,\n",
       "                                                 min_impurity_decrease=0.0,\n",
       "                                                 min_impurity_split=None,\n",
       "                                                 min_samples_leaf=1,\n",
       "                                                 min_samples_split=2,\n",
       "                                                 min_weight_fraction_leaf=0.0,\n",
       "                                                 n_estimators=100,\n",
       "                                                 n_iter_n...\n",
       "                                                 presort='deprecated',\n",
       "                                                 random_state=None,\n",
       "                                                 subsample=1.0, tol=0.0001,\n",
       "                                                 validation_fraction=0.1,\n",
       "                                                 verbose=0, warm_start=False),\n",
       "             iid='deprecated', n_jobs=-1,\n",
       "             param_grid={'learning_rate': array([0.1  , 0.575, 1.05 , 1.525, 2.   ]),\n",
       "                         'loss': ['ls', 'lad', 'huber', 'quantile'],\n",
       "                         'n_estimators': [200, 250, 300]},\n",
       "             pre_dispatch='2*n_jobs', refit=True, return_train_score=False,\n",
       "             scoring='r2', verbose=0)"
      ]
     },
     "execution_count": 25,
     "metadata": {},
     "output_type": "execute_result"
    }
   ],
   "source": [
    "gb_params={'loss':['ls','lad','huber','quantile'],'learning_rate':np.linspace(0.1,2,5),'n_estimators':[200,250,300]}\n",
    "grid_search=GridSearchCV(estimator=gb_regressor,\n",
    "                        param_grid=gb_params,cv=7,n_jobs=-1,\n",
    "                        scoring='r2')\n",
    "\n",
    "grid_search.fit(X_train,y_train)"
   ]
  },
  {
   "cell_type": "code",
   "execution_count": 26,
   "metadata": {},
   "outputs": [
    {
     "data": {
      "text/plain": [
       "{'learning_rate': 0.1, 'loss': 'ls', 'n_estimators': 300}"
      ]
     },
     "execution_count": 26,
     "metadata": {},
     "output_type": "execute_result"
    }
   ],
   "source": [
    "grid_search.best_params_"
   ]
  },
  {
   "cell_type": "code",
   "execution_count": 27,
   "metadata": {},
   "outputs": [],
   "source": [
    "gb_y_pred=grid_search.predict(X_test)\n",
    "#svr_y_pred=scaler_y.inverse_transform(svr_y_pred)\n",
    "#y_test=scaler_y.inverse_transform(y_test)"
   ]
  },
  {
   "cell_type": "code",
   "execution_count": 28,
   "metadata": {},
   "outputs": [
    {
     "name": "stdout",
     "output_type": "stream",
     "text": [
      "0.8503125071815114\n",
      "0.6186822735782582\n",
      "1.0700667634873942\n",
      "1.0344403141251766\n"
     ]
    }
   ],
   "source": [
    "print(r2_score(y_test,gb_y_pred))\n",
    "print(mean_absolute_error(y_test,gb_y_pred))\n",
    "print(mean_squared_error(y_test,gb_y_pred))\n",
    "print(np.sqrt(mean_squared_error(y_test,gb_y_pred)))"
   ]
  },
  {
   "cell_type": "code",
   "execution_count": 29,
   "metadata": {},
   "outputs": [
    {
     "data": {
      "text/plain": [
       "<matplotlib.collections.PathCollection at 0x195e7a9ed48>"
      ]
     },
     "execution_count": 29,
     "metadata": {},
     "output_type": "execute_result"
    },
    {
     "data": {
      "image/png": "[encoded data removed]",
      "text/plain": [
       "<Figure size 432x288 with 1 Axes>"
      ]
     },
     "metadata": {
      "needs_background": "light"
     },
     "output_type": "display_data"
    }
   ],
   "source": [
    "plt.scatter(x=y_test,y=gb_y_pred,s=12)"
   ]
  },
  {
   "cell_type": "markdown",
   "metadata": {},
   "source": [
    "RANDOM FOREST REGRESSOR"
   ]
  },
  {
   "cell_type": "code",
   "execution_count": 36,
   "metadata": {},
   "outputs": [],
   "source": [
    "rf_regressor=RandomForestRegressor()"
   ]
  },
  {
   "cell_type": "code",
   "execution_count": 37,
   "metadata": {},
   "outputs": [
    {
     "data": {
      "text/plain": [
       "GridSearchCV(cv=7, error_score=nan,\n",
       "             estimator=KernelRidge(alpha=1, coef0=1, degree=3, gamma=None,\n",
       "                                   kernel='linear', kernel_params=None),\n",
       "             iid='deprecated', n_jobs=-1,\n",
       "             param_grid={'alpha': array([0.1, 0.2, 0.3, 0.4, 0.5, 0.6, 0.7, 0.8, 0.9, 1. ]),\n",
       "                         'kernel': ['linear', 'laplacian', 'rbf']},\n",
       "             pre_dispatch='2*n_jobs', refit=True, return_train_score=False,\n",
       "             scoring='r2', verbose=0)"
      ]
     },
     "execution_count": 37,
     "metadata": {},
     "output_type": "execute_result"
    }
   ],
   "source": [
    "rf_params={'n_estimators':[100,200,300]}\n",
    "grid_search=GridSearchCV(estimator=rf_regressor,\n",
    "                        param_grid=rf_params,cv=7,n_jobs=-1,\n",
    "                        scoring='r2')\n",
    "\n",
    "grid_search.fit(X_train,y_train)"
   ]
  },
  {
   "cell_type": "code",
   "execution_count": 38,
   "metadata": {},
   "outputs": [
    {
     "data": {
      "text/plain": [
       "{'alpha': 0.1, 'kernel': 'laplacian'}"
      ]
     },
     "execution_count": 38,
     "metadata": {},
     "output_type": "execute_result"
    }
   ],
   "source": [
    "grid_search.best_params_"
   ]
  },
  {
   "cell_type": "code",
   "execution_count": 39,
   "metadata": {},
   "outputs": [],
   "source": [
    "rf_y_pred=grid_search.predict(X_test)\n",
    "#svr_y_pred=scaler_y.inverse_transform(svr_y_pred)\n",
    "#y_test=scaler_y.inverse_transform(y_test)"
   ]
  },
  {
   "cell_type": "code",
   "execution_count": 40,
   "metadata": {},
   "outputs": [
    {
     "name": "stdout",
     "output_type": "stream",
     "text": [
      "0.8672138606531312\n",
      "0.5998573440369289\n",
      "0.9492445340051804\n",
      "0.9742918115252639\n"
     ]
    }
   ],
   "source": [
    "print(r2_score(y_test,rf_y_pred))\n",
    "print(mean_absolute_error(y_test,rf_y_pred))\n",
    "print(mean_squared_error(y_test,rf_y_pred))\n",
    "print(np.sqrt(mean_squared_error(y_test,rf_y_pred)))"
   ]
  },
  {
   "cell_type": "code",
   "execution_count": 41,
   "metadata": {},
   "outputs": [
    {
     "data": {
      "text/plain": [
       "<matplotlib.collections.PathCollection at 0x195e9f75808>"
      ]
     },
     "execution_count": 41,
     "metadata": {},
     "output_type": "execute_result"
    },
    {
     "data": {
      "image/png": "[encoded data removed]",
      "text/plain": [
       "<Figure size 432x288 with 1 Axes>"
      ]
     },
     "metadata": {
      "needs_background": "light"
     },
     "output_type": "display_data"
    }
   ],
   "source": [
    "plt.scatter(x=y_test,y=rf_y_pred,s=12)"
   ]
  },
  {
   "cell_type": "code",
   "execution_count": null,
   "metadata": {},
   "outputs": [],
   "source": []
  },
  {
   "cell_type": "code",
   "execution_count": 152,
   "metadata": {},
   "outputs": [],
   "source": [
    "Y=np.concatenate([y_test.values.reshape(-1,1),svr_y_pred],axis=1)"
   ]
  },
  {
   "cell_type": "code",
   "execution_count": 153,
   "metadata": {},
   "outputs": [],
   "source": [
    "Y=pd.DataFrame(Y)"
   ]
  },
  {
   "cell_type": "code",
   "execution_count": 154,
   "metadata": {},
   "outputs": [
    {
     "data": {
      "text/html": [
       "<div>\n",
       "<style scoped>\n",
       "    .dataframe tbody tr th:only-of-type {\n",
       "        vertical-align: middle;\n",
       "    }\n",
       "\n",
       "    .dataframe tbody tr th {\n",
       "        vertical-align: top;\n",
       "    }\n",
       "\n",
       "    .dataframe thead th {\n",
       "        text-align: right;\n",
       "    }\n",
       "</style>\n",
       "<table border=\"1\" class=\"dataframe\">\n",
       "  <thead>\n",
       "    <tr style=\"text-align: right;\">\n",
       "      <th></th>\n",
       "      <th>0</th>\n",
       "      <th>1</th>\n",
       "    </tr>\n",
       "  </thead>\n",
       "  <tbody>\n",
       "    <tr>\n",
       "      <th>1170</th>\n",
       "      <td>5.868289</td>\n",
       "      <td>5.921853</td>\n",
       "    </tr>\n",
       "    <tr>\n",
       "      <th>942</th>\n",
       "      <td>3.493347</td>\n",
       "      <td>3.547076</td>\n",
       "    </tr>\n",
       "    <tr>\n",
       "      <th>1183</th>\n",
       "      <td>4.017911</td>\n",
       "      <td>5.081349</td>\n",
       "    </tr>\n",
       "    <tr>\n",
       "      <th>31</th>\n",
       "      <td>2.665381</td>\n",
       "      <td>2.744729</td>\n",
       "    </tr>\n",
       "    <tr>\n",
       "      <th>142</th>\n",
       "      <td>4.021912</td>\n",
       "      <td>3.555471</td>\n",
       "    </tr>\n",
       "    <tr>\n",
       "      <th>...</th>\n",
       "      <td>...</td>\n",
       "      <td>...</td>\n",
       "    </tr>\n",
       "    <tr>\n",
       "      <th>411</th>\n",
       "      <td>4.151390</td>\n",
       "      <td>6.004126</td>\n",
       "    </tr>\n",
       "    <tr>\n",
       "      <th>654</th>\n",
       "      <td>8.560989</td>\n",
       "      <td>8.389297</td>\n",
       "    </tr>\n",
       "    <tr>\n",
       "      <th>251</th>\n",
       "      <td>3.073437</td>\n",
       "      <td>2.696289</td>\n",
       "    </tr>\n",
       "    <tr>\n",
       "      <th>446</th>\n",
       "      <td>3.055763</td>\n",
       "      <td>3.046302</td>\n",
       "    </tr>\n",
       "    <tr>\n",
       "      <th>669</th>\n",
       "      <td>5.045576</td>\n",
       "      <td>4.755064</td>\n",
       "    </tr>\n",
       "  </tbody>\n",
       "</table>\n",
       "<p>273 rows × 2 columns</p>\n",
       "</div>"
      ],
      "text/plain": [
       "             0         1\n",
       "1170  5.868289  5.921853\n",
       "942   3.493347  3.547076\n",
       "1183  4.017911  5.081349\n",
       "31    2.665381  2.744729\n",
       "142   4.021912  3.555471\n",
       "...        ...       ...\n",
       "411   4.151390  6.004126\n",
       "654   8.560989  8.389297\n",
       "251   3.073437  2.696289\n",
       "446   3.055763  3.046302\n",
       "669   5.045576  4.755064\n",
       "\n",
       "[273 rows x 2 columns]"
      ]
     },
     "execution_count": 154,
     "metadata": {},
     "output_type": "execute_result"
    }
   ],
   "source": [
    "Y.index=y_test.index\n",
    "Y"
   ]
  },
  {
   "cell_type": "code",
   "execution_count": 155,
   "metadata": {},
   "outputs": [],
   "source": [
    "X=Data.iloc[Y.index,0]\n",
    "X=pd.DataFrame(X)"
   ]
  },
  {
   "cell_type": "code",
   "execution_count": 156,
   "metadata": {},
   "outputs": [],
   "source": [
    "Results=np.concatenate([X,Y],axis=1)\n",
    "Results=pd.DataFrame(Results)"
   ]
  },
  {
   "cell_type": "code",
   "execution_count": 157,
   "metadata": {},
   "outputs": [],
   "source": [
    "Results.columns=['Formula','Dataset','SVR']"
   ]
  },
  {
   "cell_type": "code",
   "execution_count": 158,
   "metadata": {},
   "outputs": [],
   "source": [
    "Results['$\\Deltaε$']=Results['Dataset']-Results['SVR']"
   ]
  },
  {
   "cell_type": "code",
   "execution_count": 159,
   "metadata": {},
   "outputs": [],
   "source": [
    "Results['abs diff']=np.absolute(Results['$\\Deltaε$'])"
   ]
  },
  {
   "cell_type": "code",
   "execution_count": 160,
   "metadata": {},
   "outputs": [],
   "source": [
    "Difference=Results.sort_values(by=['abs diff'],ascending=False)"
   ]
  },
  {
   "cell_type": "code",
   "execution_count": 161,
   "metadata": {},
   "outputs": [
    {
     "data": {
      "text/html": [
       "<div>\n",
       "<style scoped>\n",
       "    .dataframe tbody tr th:only-of-type {\n",
       "        vertical-align: middle;\n",
       "    }\n",
       "\n",
       "    .dataframe tbody tr th {\n",
       "        vertical-align: top;\n",
       "    }\n",
       "\n",
       "    .dataframe thead th {\n",
       "        text-align: right;\n",
       "    }\n",
       "</style>\n",
       "<table border=\"1\" class=\"dataframe\">\n",
       "  <thead>\n",
       "    <tr style=\"text-align: right;\">\n",
       "      <th></th>\n",
       "      <th>Formula</th>\n",
       "      <th>Dataset</th>\n",
       "      <th>SVR</th>\n",
       "      <th>$\\Deltaε$</th>\n",
       "    </tr>\n",
       "  </thead>\n",
       "  <tbody>\n",
       "    <tr>\n",
       "      <th>189</th>\n",
       "      <td>LiBC</td>\n",
       "      <td>13.5273</td>\n",
       "      <td>5.5564</td>\n",
       "      <td>7.9709</td>\n",
       "    </tr>\n",
       "    <tr>\n",
       "      <th>257</th>\n",
       "      <td>Ga2Te5</td>\n",
       "      <td>17.1926</td>\n",
       "      <td>10.6555</td>\n",
       "      <td>6.53712</td>\n",
       "    </tr>\n",
       "    <tr>\n",
       "      <th>164</th>\n",
       "      <td>LiAsS2</td>\n",
       "      <td>12.3851</td>\n",
       "      <td>8.19838</td>\n",
       "      <td>4.18672</td>\n",
       "    </tr>\n",
       "    <tr>\n",
       "      <th>97</th>\n",
       "      <td>In2HgTe4</td>\n",
       "      <td>16.2026</td>\n",
       "      <td>13.4046</td>\n",
       "      <td>2.798</td>\n",
       "    </tr>\n",
       "    <tr>\n",
       "      <th>128</th>\n",
       "      <td>ZrZnN2</td>\n",
       "      <td>8.9863</td>\n",
       "      <td>6.70853</td>\n",
       "      <td>2.27777</td>\n",
       "    </tr>\n",
       "    <tr>\n",
       "      <th>154</th>\n",
       "      <td>CdCN2</td>\n",
       "      <td>4.59332</td>\n",
       "      <td>6.86065</td>\n",
       "      <td>-2.26733</td>\n",
       "    </tr>\n",
       "    <tr>\n",
       "      <th>82</th>\n",
       "      <td>RhBr3</td>\n",
       "      <td>6.12443</td>\n",
       "      <td>8.16173</td>\n",
       "      <td>-2.0373</td>\n",
       "    </tr>\n",
       "    <tr>\n",
       "      <th>198</th>\n",
       "      <td>HfNCl</td>\n",
       "      <td>4.93717</td>\n",
       "      <td>6.89004</td>\n",
       "      <td>-1.95288</td>\n",
       "    </tr>\n",
       "    <tr>\n",
       "      <th>52</th>\n",
       "      <td>BaHfN2</td>\n",
       "      <td>7.35243</td>\n",
       "      <td>9.28128</td>\n",
       "      <td>-1.92885</td>\n",
       "    </tr>\n",
       "    <tr>\n",
       "      <th>268</th>\n",
       "      <td>Cs2HfI6</td>\n",
       "      <td>4.15139</td>\n",
       "      <td>6.00413</td>\n",
       "      <td>-1.85274</td>\n",
       "    </tr>\n",
       "    <tr>\n",
       "      <th>176</th>\n",
       "      <td>KCaBi</td>\n",
       "      <td>7.21181</td>\n",
       "      <td>8.84599</td>\n",
       "      <td>-1.63418</td>\n",
       "    </tr>\n",
       "  </tbody>\n",
       "</table>\n",
       "</div>"
      ],
      "text/plain": [
       "      Formula  Dataset      SVR $\\Deltaε$\n",
       "189      LiBC  13.5273   5.5564    7.9709\n",
       "257    Ga2Te5  17.1926  10.6555   6.53712\n",
       "164    LiAsS2  12.3851  8.19838   4.18672\n",
       "97   In2HgTe4  16.2026  13.4046     2.798\n",
       "128    ZrZnN2   8.9863  6.70853   2.27777\n",
       "154     CdCN2  4.59332  6.86065  -2.26733\n",
       "82      RhBr3  6.12443  8.16173   -2.0373\n",
       "198     HfNCl  4.93717  6.89004  -1.95288\n",
       "52     BaHfN2  7.35243  9.28128  -1.92885\n",
       "268   Cs2HfI6  4.15139  6.00413  -1.85274\n",
       "176     KCaBi  7.21181  8.84599  -1.63418"
      ]
     },
     "execution_count": 161,
     "metadata": {},
     "output_type": "execute_result"
    }
   ],
   "source": [
    "Difference.iloc[0:11,0:4]"
   ]
  },
  {
   "cell_type": "code",
   "execution_count": null,
   "metadata": {},
   "outputs": [],
   "source": []
  }
 ],
 "metadata": {
  "kernelspec": {
   "display_name": "Python 3",
   "language": "python",
   "name": "python3"
  },
  "language_info": {
   "codemirror_mode": {
    "name": "ipython",
    "version": 3
   },
   "file_extension": ".py",
   "mimetype": "text/x-python",
   "name": "python",
   "nbconvert_exporter": "python",
   "pygments_lexer": "ipython3",
   "version": "3.7.6"
  }
 },
 "nbformat": 4,
 "nbformat_minor": 4
}
